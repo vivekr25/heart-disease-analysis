{
  "nbformat": 4,
  "nbformat_minor": 0,
  "metadata": {
    "colab": {
      "provenance": []
    },
    "kernelspec": {
      "name": "python3",
      "display_name": "Python 3"
    },
    "language_info": {
      "name": "python"
    }
  },
  "cells": [
    {
      "cell_type": "markdown",
      "source": [
        "# Heart Failure Prediction – Data Exploration\n",
        "This notebook performs basic exploration on the heart.csv dataset from Kaggle."
      ],
      "metadata": {
        "id": "x9IMj3dVfFOL"
      }
    },
    {
      "cell_type": "code",
      "execution_count": 1,
      "metadata": {
        "colab": {
          "base_uri": "https://localhost:8080/"
        },
        "id": "FihMzuFGYc9Q",
        "outputId": "b526e962-63dc-447d-b69d-fd6fea7aebcc"
      },
      "outputs": [
        {
          "output_type": "stream",
          "name": "stdout",
          "text": [
            "Sample data:\n",
            "   Age Sex ChestPainType  RestingBP  Cholesterol  FastingBS RestingECG  MaxHR  \\\n",
            "0   40   M           ATA        140          289          0     Normal    172   \n",
            "1   49   F           NAP        160          180          0     Normal    156   \n",
            "2   37   M           ATA        130          283          0         ST     98   \n",
            "3   48   F           ASY        138          214          0     Normal    108   \n",
            "4   54   M           NAP        150          195          0     Normal    122   \n",
            "\n",
            "  ExerciseAngina  Oldpeak ST_Slope  HeartDisease  \n",
            "0              N      0.0       Up             0  \n",
            "1              N      1.0     Flat             1  \n",
            "2              N      0.0       Up             0  \n",
            "3              Y      1.5     Flat             1  \n",
            "4              N      0.0       Up             0  \n",
            "\n",
            "Number of rows and columns: (918, 12)\n",
            "\n",
            "Column names and data types:\n",
            "<class 'pandas.core.frame.DataFrame'>\n",
            "RangeIndex: 918 entries, 0 to 917\n",
            "Data columns (total 12 columns):\n",
            " #   Column          Non-Null Count  Dtype  \n",
            "---  ------          --------------  -----  \n",
            " 0   Age             918 non-null    int64  \n",
            " 1   Sex             918 non-null    object \n",
            " 2   ChestPainType   918 non-null    object \n",
            " 3   RestingBP       918 non-null    int64  \n",
            " 4   Cholesterol     918 non-null    int64  \n",
            " 5   FastingBS       918 non-null    int64  \n",
            " 6   RestingECG      918 non-null    object \n",
            " 7   MaxHR           918 non-null    int64  \n",
            " 8   ExerciseAngina  918 non-null    object \n",
            " 9   Oldpeak         918 non-null    float64\n",
            " 10  ST_Slope        918 non-null    object \n",
            " 11  HeartDisease    918 non-null    int64  \n",
            "dtypes: float64(1), int64(6), object(5)\n",
            "memory usage: 86.2+ KB\n",
            "None\n"
          ]
        }
      ],
      "source": [
        "import pandas as pd\n",
        "\n",
        "# Load the heart failure dataset\n",
        "df = pd.read_csv('heart.csv')\n",
        "\n",
        "# Preview the first few rows\n",
        "print(\"Sample data:\")\n",
        "print(df.head())\n",
        "\n",
        "# Check shape and column info\n",
        "print(\"\\nNumber of rows and columns:\", df.shape)\n",
        "print(\"\\nColumn names and data types:\")\n",
        "print(df.info())"
      ]
    },
    {
      "cell_type": "code",
      "source": [
        "print(df.shape)\n",
        "print(df.info())\n",
        "print(df.isnull().sum())"
      ],
      "metadata": {
        "colab": {
          "base_uri": "https://localhost:8080/"
        },
        "id": "424wpcY6ZmZy",
        "outputId": "314e18d3-566d-4485-9c82-f481549c81f8"
      },
      "execution_count": 2,
      "outputs": [
        {
          "output_type": "stream",
          "name": "stdout",
          "text": [
            "(918, 12)\n",
            "<class 'pandas.core.frame.DataFrame'>\n",
            "RangeIndex: 918 entries, 0 to 917\n",
            "Data columns (total 12 columns):\n",
            " #   Column          Non-Null Count  Dtype  \n",
            "---  ------          --------------  -----  \n",
            " 0   Age             918 non-null    int64  \n",
            " 1   Sex             918 non-null    object \n",
            " 2   ChestPainType   918 non-null    object \n",
            " 3   RestingBP       918 non-null    int64  \n",
            " 4   Cholesterol     918 non-null    int64  \n",
            " 5   FastingBS       918 non-null    int64  \n",
            " 6   RestingECG      918 non-null    object \n",
            " 7   MaxHR           918 non-null    int64  \n",
            " 8   ExerciseAngina  918 non-null    object \n",
            " 9   Oldpeak         918 non-null    float64\n",
            " 10  ST_Slope        918 non-null    object \n",
            " 11  HeartDisease    918 non-null    int64  \n",
            "dtypes: float64(1), int64(6), object(5)\n",
            "memory usage: 86.2+ KB\n",
            "None\n",
            "Age               0\n",
            "Sex               0\n",
            "ChestPainType     0\n",
            "RestingBP         0\n",
            "Cholesterol       0\n",
            "FastingBS         0\n",
            "RestingECG        0\n",
            "MaxHR             0\n",
            "ExerciseAngina    0\n",
            "Oldpeak           0\n",
            "ST_Slope          0\n",
            "HeartDisease      0\n",
            "dtype: int64\n"
          ]
        }
      ]
    },
    {
      "cell_type": "code",
      "source": [
        "# Finding how many patients have heart disease\n",
        "print(df['HeartDisease'].value_counts())"
      ],
      "metadata": {
        "colab": {
          "base_uri": "https://localhost:8080/"
        },
        "id": "eMx3NWv8gGiX",
        "outputId": "1410460f-3832-4d4c-a02e-aa8d3f4b355a"
      },
      "execution_count": 3,
      "outputs": [
        {
          "output_type": "stream",
          "name": "stdout",
          "text": [
            "HeartDisease\n",
            "1    508\n",
            "0    410\n",
            "Name: count, dtype: int64\n"
          ]
        }
      ]
    },
    {
      "cell_type": "code",
      "source": [
        "# Average Age\n",
        "average_age = round(df['Age'].mean())\n",
        "print(f\"The average age of the patients is {average_age} years\")"
      ],
      "metadata": {
        "colab": {
          "base_uri": "https://localhost:8080/"
        },
        "id": "q2F0DZNDghcw",
        "outputId": "93ca61c5-c0ee-4972-9af5-5717b3f6efec"
      },
      "execution_count": 7,
      "outputs": [
        {
          "output_type": "stream",
          "name": "stdout",
          "text": [
            "The average age of the patients is 54 years\n"
          ]
        }
      ]
    },
    {
      "cell_type": "markdown",
      "source": [
        "See if older patients are at higher risk"
      ],
      "metadata": {
        "id": "tmaCy9hGlkfb"
      }
    },
    {
      "cell_type": "code",
      "source": [
        "# Create two groups\n",
        "older = df[df['Age'] >= 60]\n",
        "younger = df[df['Age'] < 60]\n",
        "\n",
        "# Calculate heart disease rate for each group\n",
        "older_rate = (older['HeartDisease'].sum() / len(older)) * 100\n",
        "younger_rate = (younger['HeartDisease'].sum() / len(younger)) * 100\n",
        "\n",
        "# Print the results, rounded to 1 decimal\n",
        "print(f\"Heart disease rate in older patients (60+): {older_rate:.1f}%\")\n",
        "print(f\"Heart disease rate in younger patients (<60): {younger_rate:.1f}%\")"
      ],
      "metadata": {
        "colab": {
          "base_uri": "https://localhost:8080/"
        },
        "id": "htBU4W44hU0X",
        "outputId": "744a5631-0f6c-4887-8ad3-bc3ff6e15483"
      },
      "execution_count": 9,
      "outputs": [
        {
          "output_type": "stream",
          "name": "stdout",
          "text": [
            "Heart disease rate in older patients (60+): 73.1%\n",
            "Heart disease rate in younger patients (<60): 48.6%\n"
          ]
        }
      ]
    },
    {
      "cell_type": "markdown",
      "source": [
        " Do older patients have higher risk of heart disease?\n",
        "\n",
        "To explore this, we split the patients into two groups:\n",
        "- Age 60 and above\n",
        "- Under age 60\n",
        "\n",
        "We then calculated the percentage of patients with heart disease in each group:\n",
        "\n",
        "- **Older patients (60+): 73.1%**\n",
        "- **Younger patients (<60): 48.6%**\n",
        "\n",
        "🔍 **Conclusion**: Older patients in this dataset have a significantly higher rate of heart disease."
      ],
      "metadata": {
        "id": "Q_OVcbkZoQAy"
      }
    },
    {
      "cell_type": "code",
      "source": [],
      "metadata": {
        "id": "5W1vm7aSmTSE"
      },
      "execution_count": 8,
      "outputs": []
    }
  ]
}