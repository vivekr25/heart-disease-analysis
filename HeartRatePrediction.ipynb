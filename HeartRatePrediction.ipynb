{
  "nbformat": 4,
  "nbformat_minor": 0,
  "metadata": {
    "colab": {
      "provenance": [],
      "authorship_tag": "ABX9TyMx970iRr3kn+yDBHs0svRs",
      "include_colab_link": true
    },
    "kernelspec": {
      "name": "python3",
      "display_name": "Python 3"
    },
    "language_info": {
      "name": "python"
    }
  },
  "cells": [
    {
      "cell_type": "markdown",
      "metadata": {
        "id": "view-in-github",
        "colab_type": "text"
      },
      "source": [
        "<a href=\"https://colab.research.google.com/github/vivekr25/heart-disease-analysis/blob/main/HeartRatePrediction.ipynb\" target=\"_parent\"><img src=\"https://colab.research.google.com/assets/colab-badge.svg\" alt=\"Open In Colab\"/></a>"
      ]
    },
    {
      "cell_type": "markdown",
      "source": [
        "# Heart Failure Prediction – Data Exploration\n",
        "This notebook performs basic exploration on the heart.csv dataset from Kaggle."
      ],
      "metadata": {
        "id": "x9IMj3dVfFOL"
      }
    },
    {
      "cell_type": "code",
      "execution_count": 1,
      "metadata": {
        "colab": {
          "base_uri": "https://localhost:8080/"
        },
        "id": "FihMzuFGYc9Q",
        "outputId": "ee23cfda-e2d3-458c-859d-48c67a7334ad"
      },
      "outputs": [
        {
          "output_type": "stream",
          "name": "stdout",
          "text": [
            "Sample data:\n",
            "   Age Sex ChestPainType  RestingBP  Cholesterol  FastingBS RestingECG  MaxHR  \\\n",
            "0   40   M           ATA        140          289          0     Normal    172   \n",
            "1   49   F           NAP        160          180          0     Normal    156   \n",
            "2   37   M           ATA        130          283          0         ST     98   \n",
            "3   48   F           ASY        138          214          0     Normal    108   \n",
            "4   54   M           NAP        150          195          0     Normal    122   \n",
            "\n",
            "  ExerciseAngina  Oldpeak ST_Slope  HeartDisease  \n",
            "0              N      0.0       Up             0  \n",
            "1              N      1.0     Flat             1  \n",
            "2              N      0.0       Up             0  \n",
            "3              Y      1.5     Flat             1  \n",
            "4              N      0.0       Up             0  \n",
            "\n",
            "Number of rows and columns: (918, 12)\n",
            "\n",
            "Column names and data types:\n",
            "<class 'pandas.core.frame.DataFrame'>\n",
            "RangeIndex: 918 entries, 0 to 917\n",
            "Data columns (total 12 columns):\n",
            " #   Column          Non-Null Count  Dtype  \n",
            "---  ------          --------------  -----  \n",
            " 0   Age             918 non-null    int64  \n",
            " 1   Sex             918 non-null    object \n",
            " 2   ChestPainType   918 non-null    object \n",
            " 3   RestingBP       918 non-null    int64  \n",
            " 4   Cholesterol     918 non-null    int64  \n",
            " 5   FastingBS       918 non-null    int64  \n",
            " 6   RestingECG      918 non-null    object \n",
            " 7   MaxHR           918 non-null    int64  \n",
            " 8   ExerciseAngina  918 non-null    object \n",
            " 9   Oldpeak         918 non-null    float64\n",
            " 10  ST_Slope        918 non-null    object \n",
            " 11  HeartDisease    918 non-null    int64  \n",
            "dtypes: float64(1), int64(6), object(5)\n",
            "memory usage: 86.2+ KB\n",
            "None\n"
          ]
        }
      ],
      "source": [
        "import pandas as pd\n",
        "\n",
        "# Load the heart failure dataset\n",
        "df = pd.read_csv('heart.csv')\n",
        "\n",
        "# Preview the first few rows\n",
        "print(\"Sample data:\")\n",
        "print(df.head())\n",
        "\n",
        "# Check shape and column info\n",
        "print(\"\\nNumber of rows and columns:\", df.shape)\n",
        "print(\"\\nColumn names and data types:\")\n",
        "print(df.info())"
      ]
    },
    {
      "cell_type": "code",
      "source": [
        "print(df.shape)\n",
        "print(df.info())\n",
        "print(df.isnull().sum())"
      ],
      "metadata": {
        "colab": {
          "base_uri": "https://localhost:8080/"
        },
        "id": "424wpcY6ZmZy",
        "outputId": "a6e47419-d360-4c7c-ff82-28d488e3f3ed"
      },
      "execution_count": 2,
      "outputs": [
        {
          "output_type": "stream",
          "name": "stdout",
          "text": [
            "(918, 12)\n",
            "<class 'pandas.core.frame.DataFrame'>\n",
            "RangeIndex: 918 entries, 0 to 917\n",
            "Data columns (total 12 columns):\n",
            " #   Column          Non-Null Count  Dtype  \n",
            "---  ------          --------------  -----  \n",
            " 0   Age             918 non-null    int64  \n",
            " 1   Sex             918 non-null    object \n",
            " 2   ChestPainType   918 non-null    object \n",
            " 3   RestingBP       918 non-null    int64  \n",
            " 4   Cholesterol     918 non-null    int64  \n",
            " 5   FastingBS       918 non-null    int64  \n",
            " 6   RestingECG      918 non-null    object \n",
            " 7   MaxHR           918 non-null    int64  \n",
            " 8   ExerciseAngina  918 non-null    object \n",
            " 9   Oldpeak         918 non-null    float64\n",
            " 10  ST_Slope        918 non-null    object \n",
            " 11  HeartDisease    918 non-null    int64  \n",
            "dtypes: float64(1), int64(6), object(5)\n",
            "memory usage: 86.2+ KB\n",
            "None\n",
            "Age               0\n",
            "Sex               0\n",
            "ChestPainType     0\n",
            "RestingBP         0\n",
            "Cholesterol       0\n",
            "FastingBS         0\n",
            "RestingECG        0\n",
            "MaxHR             0\n",
            "ExerciseAngina    0\n",
            "Oldpeak           0\n",
            "ST_Slope          0\n",
            "HeartDisease      0\n",
            "dtype: int64\n"
          ]
        }
      ]
    },
    {
      "cell_type": "code",
      "source": [
        "# Finding how many patients have heart disease\n",
        "print(df['HeartDisease'].value_counts())"
      ],
      "metadata": {
        "colab": {
          "base_uri": "https://localhost:8080/"
        },
        "id": "eMx3NWv8gGiX",
        "outputId": "50f43f8d-708d-4604-fd5f-13e1007588ef"
      },
      "execution_count": 3,
      "outputs": [
        {
          "output_type": "stream",
          "name": "stdout",
          "text": [
            "HeartDisease\n",
            "1    508\n",
            "0    410\n",
            "Name: count, dtype: int64\n"
          ]
        }
      ]
    },
    {
      "cell_type": "code",
      "source": [
        "# Average Age\n",
        "average_age = round(df['Age'].mean())\n",
        "print(f\"The average age of the patients is {average_age} years\")"
      ],
      "metadata": {
        "colab": {
          "base_uri": "https://localhost:8080/"
        },
        "id": "q2F0DZNDghcw",
        "outputId": "3410f3a9-afcd-4ce7-812b-46023cc5a22a"
      },
      "execution_count": 4,
      "outputs": [
        {
          "output_type": "stream",
          "name": "stdout",
          "text": [
            "The average age of the patients is 54 years\n"
          ]
        }
      ]
    },
    {
      "cell_type": "markdown",
      "source": [
        "See if older patients are at higher risk"
      ],
      "metadata": {
        "id": "tmaCy9hGlkfb"
      }
    },
    {
      "cell_type": "code",
      "source": [
        "# Create two groups\n",
        "older = df[df['Age'] >= 60]\n",
        "younger = df[df['Age'] < 60]\n",
        "\n",
        "# Calculate heart disease rate for each group\n",
        "older_rate = (older['HeartDisease'].sum() / len(older)) * 100\n",
        "younger_rate = (younger['HeartDisease'].sum() / len(younger)) * 100\n",
        "\n",
        "# Print the results, rounded to 1 decimal\n",
        "print(f\"Heart disease rate in older patients (60+): {older_rate:.1f}%\")\n",
        "print(f\"Heart disease rate in younger patients (<60): {younger_rate:.1f}%\")"
      ],
      "metadata": {
        "colab": {
          "base_uri": "https://localhost:8080/"
        },
        "id": "htBU4W44hU0X",
        "outputId": "e32d4696-5787-42be-ecdf-447fe7c7786f"
      },
      "execution_count": 5,
      "outputs": [
        {
          "output_type": "stream",
          "name": "stdout",
          "text": [
            "Heart disease rate in older patients (60+): 73.1%\n",
            "Heart disease rate in younger patients (<60): 48.6%\n"
          ]
        }
      ]
    },
    {
      "cell_type": "markdown",
      "source": [
        " Do older patients have higher risk of heart disease?\n",
        "\n",
        "To explore this, we split the patients into two groups:\n",
        "- Age 60 and above\n",
        "- Under age 60\n",
        "\n",
        "We then calculated the percentage of patients with heart disease in each group:\n",
        "\n",
        "- **Older patients (60+): 73.1%**\n",
        "- **Younger patients (<60): 48.6%**\n",
        "\n",
        "🔍 **Conclusion**: Older patients in this dataset have a significantly higher rate of heart disease."
      ],
      "metadata": {
        "id": "Q_OVcbkZoQAy"
      }
    },
    {
      "cell_type": "code",
      "source": [
        "# Total number of patients in the full dataset\n",
        "print(\"Total patients:\", len(df))\n",
        "\n",
        "# Number of older patients (age 60+)\n",
        "older = df[df['Age'] >= 60]\n",
        "print(\"Older patients:\", len(older))\n",
        "\n",
        "# Number of younger patients\n",
        "younger = df[df['Age'] < 60]\n",
        "print(\"Younger patients:\", len(younger))"
      ],
      "metadata": {
        "colab": {
          "base_uri": "https://localhost:8080/"
        },
        "id": "5W1vm7aSmTSE",
        "outputId": "57a0fbeb-e5b5-4794-a8a9-cba723861416"
      },
      "execution_count": 6,
      "outputs": [
        {
          "output_type": "stream",
          "name": "stdout",
          "text": [
            "Total patients: 918\n",
            "Older patients: 253\n",
            "Younger patients: 665\n"
          ]
        }
      ]
    },
    {
      "cell_type": "markdown",
      "source": [
        "# Finding which chest pain type was reported the most"
      ],
      "metadata": {
        "id": "Ngy9SzbB4kNk"
      }
    },
    {
      "cell_type": "code",
      "source": [
        "# Count heart disease cases by Chest Pain Type\n",
        "chest_vs_disease = df.groupby('ChestPainType')['HeartDisease'].value_counts().unstack()\n",
        "print(chest_vs_disease)"
      ],
      "metadata": {
        "id": "1FIaUWB1tSUi",
        "colab": {
          "base_uri": "https://localhost:8080/"
        },
        "outputId": "f86be463-d95b-453e-b577-3566279c7ff0"
      },
      "execution_count": 7,
      "outputs": [
        {
          "output_type": "stream",
          "name": "stdout",
          "text": [
            "HeartDisease     0    1\n",
            "ChestPainType          \n",
            "ASY            104  392\n",
            "ATA            149   24\n",
            "NAP            131   72\n",
            "TA              26   20\n"
          ]
        }
      ]
    },
    {
      "cell_type": "code",
      "source": [
        "import matplotlib.pyplot as plt\n",
        "\n",
        "# Bar chart: Chest pain type vs heart disease\n",
        "chest_vs_disease.plot(kind='bar', stacked=True, figsize=(8,5))\n",
        "\n",
        "# Titles and labels\n",
        "plt.title(\"Heart Disease by Chest Pain Type\")\n",
        "plt.xlabel(\"Chest Pain Type\")\n",
        "plt.ylabel(\"Number of Patients\")\n",
        "plt.legend([\"No Disease\", \"Has Disease\"], title=\"HeartDisease\")\n",
        "plt.tight_layout()\n",
        "\n",
        "# Show the chart\n",
        "plt.show()"
      ],
      "metadata": {
        "colab": {
          "base_uri": "https://localhost:8080/",
          "height": 507
        },
        "id": "HTUU2dED3o6F",
        "outputId": "30407fb2-9145-47e9-be62-d67a037dd8f8"
      },
      "execution_count": 8,
      "outputs": [
        {
          "output_type": "display_data",
          "data": {
            "text/plain": [
              "<Figure size 800x500 with 1 Axes>"
            ],
            "image/png": "[encoded data removed]"
          },
          "metadata": {}
        }
      ]
    },
    {
      "cell_type": "code",
      "source": [],
      "metadata": {
        "id": "w15R_kS84iQw"
      },
      "execution_count": null,
      "outputs": []
    },
    {
      "cell_type": "markdown",
      "source": [
        "### Chest Pain Type vs. Heart Disease\n",
        "\n",
        "This bar chart shows the number of patients with and without heart disease across different chest pain types.\n",
        "\n",
        "- Most patients with **asymptomatic chest pain (ASY)** have heart disease.\n",
        "- **ATA** and **NAP** are more common in patients without heart disease.\n",
        "\n",
        "🔍 This insight may help prioritize further cardiac screening for patients reporting ASY chest pain."
      ],
      "metadata": {
        "id": "mb_5ZZjM5ORE"
      }
    },
    {
      "cell_type": "code",
      "source": [],
      "metadata": {
        "id": "sVpYo4w85PGz"
      },
      "execution_count": null,
      "outputs": []
    },
    {
      "cell_type": "markdown",
      "source": [
        "Heart disease cases by Gender"
      ],
      "metadata": {
        "id": "03RHGgO_6B8E"
      }
    },
    {
      "cell_type": "code",
      "source": [
        "# Group by Sex and HeartDisease\n",
        "gender_vs_disease = df.groupby('Sex')['HeartDisease'].value_counts().unstack()\n",
        "print(gender_vs_disease)"
      ],
      "metadata": {
        "colab": {
          "base_uri": "https://localhost:8080/"
        },
        "id": "N1k_olP66Dzz",
        "outputId": "996841c1-0408-443e-9eb8-faef16f84258"
      },
      "execution_count": 9,
      "outputs": [
        {
          "output_type": "stream",
          "name": "stdout",
          "text": [
            "HeartDisease    0    1\n",
            "Sex                   \n",
            "F             143   50\n",
            "M             267  458\n"
          ]
        }
      ]
    },
    {
      "cell_type": "code",
      "source": [
        "# Bar Chart : Sex vs Heart Disease\n",
        "gender_vs_disease.plot(kind='bar', stacked=True, figsize=(8,5))\n",
        "\n",
        "# Titles and labels\n",
        "plt.title(\"Heart Disease by Sex\")\n",
        "plt.xlabel(\"Sex\")\n",
        "plt.ylabel(\"Number of Patients\")\n",
        "plt.legend([\"No Disease\", \"Has Disease\"], title=\"HeartDisease\")\n",
        "plt.tight_layout()\n",
        "\n",
        "# Show the chart\n",
        "plt.show()"
      ],
      "metadata": {
        "colab": {
          "base_uri": "https://localhost:8080/",
          "height": 507
        },
        "id": "kPGkBvtr6Enj",
        "outputId": "79d1c1ee-13fc-44c5-fa85-6a5888539c6c"
      },
      "execution_count": 11,
      "outputs": [
        {
          "output_type": "display_data",
          "data": {
            "text/plain": [
              "<Figure size 800x500 with 1 Axes>"
            ],
            "image/png": "[encoded data removed]"
          },
          "metadata": {}
        }
      ]
    },
    {
      "cell_type": "markdown",
      "source": [
        "### Heart Disease Risk by Gender\n",
        "\n",
        "The chart shows the number of patients with and without heart disease, grouped by sex:\n",
        "\n",
        "- Among **male patients**, a large majority (458) have heart disease.\n",
        "- Among **female patients**, the majority (143) do **not** have heart disease.\n",
        "\n",
        "🔍 This suggests that in this dataset, **male patients are more likely to have heart disease**."
      ],
      "metadata": {
        "id": "3Asnazj_7POy"
      }
    },
    {
      "cell_type": "code",
      "source": [],
      "metadata": {
        "id": "ZkoOaDKB6cyv"
      },
      "execution_count": null,
      "outputs": []
    }
  ]
}